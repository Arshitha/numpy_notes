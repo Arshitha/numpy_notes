{
 "cells": [
  {
   "cell_type": "markdown",
   "metadata": {},
   "source": [
    "# Quickstart tutorial\n",
    "Source: https://numpy.org/doc/stable/user/quickstart.html\n",
    "\n",
    "Learning Objectives\n",
    "\n",
    "After reading, you should be able to:\n",
    "\n",
    "- Understand the difference between one-, two- and n-dimensional arrays in NumPy;\n",
    "\n",
    "- Understand how to apply some linear algebra operations to n-dimensional arrays without using for-loops;\n",
    "\n",
    "- Understand axis and shape properties for n-dimensional arrays.\n"
   ]
  },
  {
   "cell_type": "markdown",
   "metadata": {},
   "source": [
    "## The basics\n",
    "- Main numpy object: `ndarray` - homogeneous (same data type) multidimensional array\n",
    "- Indexed by non-negative integers\n",
    "- Dimensions of a multidimensional array are called _axes_"
   ]
  },
  {
   "cell_type": "markdown",
   "metadata": {},
   "source": [
    "## `ndarray`\n",
    "\n",
    "- Numpy's array _class_ is called `ndarray`\n",
    "- It is also known by its alias `array` \n",
    "- `numpy.array` != Python library class `array.array` which only handles 1D arrays \n"
   ]
  },
  {
   "cell_type": "code",
   "execution_count": 2,
   "metadata": {},
   "outputs": [],
   "source": [
    "import numpy as np\n",
    "from numpy import pi"
   ]
  },
  {
   "cell_type": "code",
   "execution_count": 3,
   "metadata": {},
   "outputs": [
    {
     "name": "stdout",
     "output_type": "stream",
     "text": [
      "[[ 0  1  2  3  4]\n",
      " [ 5  6  7  8  9]\n",
      " [10 11 12 13 14]]\n"
     ]
    }
   ],
   "source": [
    "# returns values between [0,15) (step=1) shaped as a 3 x 5 matrix\n",
    "a = np.arange(15).reshape(3, 5) # arange is similar to range but returns a numpy array.\n",
    "b = np.array([6,7,8])\n",
    "print(a)"
   ]
  },
  {
   "cell_type": "markdown",
   "metadata": {},
   "source": [
    "- Most important attributes of `ndarray` object are:\n",
    "    - `ndarray.ndim` : Number of axes of the array\n",
    "    - `ndarray.shape`: Dimensions of the array. This is a tuple of integers indicating the size of the array in each dimension. For a matrix with n rows and m columns, shape will be (n,m). The length of the shape tuple is therefore the number of axes, ndim.\n",
    "    - `ndarray.size` : the total number of elements of the array. Equal to the product of #rows * #cols aka elements of `shape`\n",
    "    - `ndarray.dtype` : an object describing the type of the elements in the array. One can create or specify dtype’s using standard Python types. Additionally NumPy provides types of its own. numpy.int32, numpy.int16, and numpy.float64 are some examples.\n",
    "    - `ndarray.itemsize` : the size in bytes of each element of the array. E.g., an array of elements of type `float64` has `itemsize` 8 (=64/8), while one of type `complex32` has `itemsize` 4 (=32/8). It is equivalent to `ndarray.dtype.itemsize`\n",
    "    - `ndarray.data` : the buffer containing the actual elements of the array. Normally, we won’t need to use this attribute because we will access the elements in an array using indexing facilities."
   ]
  },
  {
   "cell_type": "code",
   "execution_count": 4,
   "metadata": {},
   "outputs": [
    {
     "data": {
      "text/plain": [
       "(3, 5)"
      ]
     },
     "execution_count": 4,
     "metadata": {},
     "output_type": "execute_result"
    }
   ],
   "source": [
    "a.shape"
   ]
  },
  {
   "cell_type": "code",
   "execution_count": 5,
   "metadata": {},
   "outputs": [
    {
     "data": {
      "text/plain": [
       "2"
      ]
     },
     "execution_count": 5,
     "metadata": {},
     "output_type": "execute_result"
    }
   ],
   "source": [
    "a.ndim"
   ]
  },
  {
   "cell_type": "code",
   "execution_count": 6,
   "metadata": {},
   "outputs": [
    {
     "data": {
      "text/plain": [
       "'int64'"
      ]
     },
     "execution_count": 6,
     "metadata": {},
     "output_type": "execute_result"
    }
   ],
   "source": [
    "a.dtype.name"
   ]
  },
  {
   "cell_type": "code",
   "execution_count": 7,
   "metadata": {},
   "outputs": [
    {
     "data": {
      "text/plain": [
       "8"
      ]
     },
     "execution_count": 7,
     "metadata": {},
     "output_type": "execute_result"
    }
   ],
   "source": [
    "a.itemsize"
   ]
  },
  {
   "cell_type": "code",
   "execution_count": 8,
   "metadata": {},
   "outputs": [
    {
     "data": {
      "text/plain": [
       "numpy.ndarray"
      ]
     },
     "execution_count": 8,
     "metadata": {},
     "output_type": "execute_result"
    }
   ],
   "source": [
    "type(a)"
   ]
  },
  {
   "cell_type": "markdown",
   "metadata": {},
   "source": [
    "## Array creation\n",
    "- Multiple ways to create an array\n",
    "    1. Using the `np.array` like `a = np.array([2,3,4])`\n",
    "    2. Using `np.arange` like `a=np.arange(2,5)`\n",
    "- A note about `arange`: \n",
    "> When arange is used with floating point arguments, it is generally not possible to predict the number of elements obtained, due to the finite floating point precision. For this reason, it is usually better to use the function linspace that receives as an argument the number of elements that we want, instead of the step:\n",
    "\n"
   ]
  },
  {
   "cell_type": "code",
   "execution_count": 9,
   "metadata": {},
   "outputs": [],
   "source": [
    "np.linspace(0, 2, 9)                   # 9 numbers from 0 to 2\n",
    "x = np.linspace(0, 2 * pi, 100)        # useful to evaluate function at lots of points\n",
    "f = np.sin(x)"
   ]
  },
  {
   "cell_type": "markdown",
   "metadata": {},
   "source": [
    "## Printing Arrays\n",
    "NumPy displays arrays similar to nested python lists, but with the following layout:\n",
    "- the last axis is printed from left to right,\n",
    "- the second-to-last is printed from top to bottom,\n",
    "- the rest are also printed from top to bottom, with each slice separated from the next by an empty line.\n"
   ]
  },
  {
   "cell_type": "code",
   "execution_count": 10,
   "metadata": {},
   "outputs": [
    {
     "name": "stdout",
     "output_type": "stream",
     "text": [
      "a is:\n",
      "[0 1 2 3 4 5]\n",
      "\n",
      "b is:\n",
      "[[ 0  1  2]\n",
      " [ 3  4  5]\n",
      " [ 6  7  8]\n",
      " [ 9 10 11]]\n",
      "\n",
      "c is:\n",
      "[[[ 0  1  2  3]\n",
      "  [ 4  5  6  7]\n",
      "  [ 8  9 10 11]]\n",
      "\n",
      " [[12 13 14 15]\n",
      "  [16 17 18 19]\n",
      "  [20 21 22 23]]]\n",
      "\n"
     ]
    }
   ],
   "source": [
    "a = np.arange(6)                    # 1d array\n",
    "print(f\"a is:\\n{a}\\n\")\n",
    "b = np.arange(12).reshape(4, 3)     # 2d array\n",
    "print(f\"b is:\\n{b}\\n\")\n",
    "c = np.arange(24).reshape(2, 3, 4)  # 3d array\n",
    "print(f\"c is:\\n{c}\\n\")\n"
   ]
  },
  {
   "cell_type": "markdown",
   "metadata": {},
   "source": [
    "If an array is too large to be printed, NumPy automatically skips the central part of the array and only prints the corners:"
   ]
  },
  {
   "cell_type": "code",
   "execution_count": 11,
   "metadata": {},
   "outputs": [
    {
     "name": "stdout",
     "output_type": "stream",
     "text": [
      "[   0    1    2 ... 9997 9998 9999]\n",
      "\n",
      "[[   0    1    2 ...   97   98   99]\n",
      " [ 100  101  102 ...  197  198  199]\n",
      " [ 200  201  202 ...  297  298  299]\n",
      " ...\n",
      " [9700 9701 9702 ... 9797 9798 9799]\n",
      " [9800 9801 9802 ... 9897 9898 9899]\n",
      " [9900 9901 9902 ... 9997 9998 9999]]\n"
     ]
    }
   ],
   "source": [
    "print(np.arange(10000))\n",
    "print()\n",
    "print(np.arange(10000).reshape(100, 100))"
   ]
  },
  {
   "cell_type": "markdown",
   "metadata": {},
   "source": [
    "To disable this behaviour and force NumPy to print the entire array, you can change the printing options using `set_printoptions`\n",
    "\n",
    "`np.set_printoptions(threshold=sys.maxsize)  # sys module should be imported`"
   ]
  },
  {
   "cell_type": "markdown",
   "metadata": {},
   "source": [
    "## Basic operations\n",
    "- Arithmetic operators on arrays apply elementwise."
   ]
  },
  {
   "cell_type": "code",
   "execution_count": 19,
   "metadata": {},
   "outputs": [
    {
     "name": "stdout",
     "output_type": "stream",
     "text": [
      "a is:\n",
      "[25 13 78 99]\n",
      "\n",
      "b is:\n",
      "[7.         7.66666667 8.33333333 9.        ]\n",
      "\n",
      "a + b is:\n",
      "[ 32.          20.66666667  86.33333333 108.        ]\n",
      "\n",
      "2*b is:\n",
      "[14.         15.33333333 16.66666667 18.        ]\n",
      "\n",
      "a*b is:\n",
      "[175.          99.66666667 650.         891.        ]\n",
      "\n"
     ]
    }
   ],
   "source": [
    "a = np.array([25, 13, 78, 99])\n",
    "b = np.linspace(7, 9, 4)\n",
    "print(f\"a is:\\n{a}\\n\")\n",
    "print(f\"b is:\\n{b}\\n\")\n",
    "\n",
    "c = a + b\n",
    "d = 2*b\n",
    "\n",
    "print(f\"a + b is:\\n{c}\\n\")  # elementwise addition\n",
    "print(f\"2*b is:\\n{d}\\n\") # scalar multiplication\n",
    "print(f\"a*b is:\\n{a*b}\\n\") # elementwise multiplication\n"
   ]
  },
  {
   "cell_type": "markdown",
   "metadata": {},
   "source": [
    "Unlike in many matrix languages, the product operator `*` operates elementwise in NumPy arrays. The matrix product can be performed using the `@` operator (in python >=3.5) or the `dot` function or method:"
   ]
  },
  {
   "cell_type": "code",
   "execution_count": null,
   "metadata": {},
   "outputs": [
    {
     "name": "stdout",
     "output_type": "stream",
     "text": [
      "A is:\n",
      "[[0 3]\n",
      " [2 1]]\n",
      "\n",
      "B is:\n",
      "[[3 2]\n",
      " [3 2]]\n",
      "\n",
      "A * B is \n",
      "[[0 6]\n",
      " [6 2]]\n",
      "\n",
      "A @ B is \n",
      "[[9 6]\n",
      " [9 6]]\n",
      "\n",
      "A.dot(B) is \n",
      "[[9 6]\n",
      " [9 6]]\n",
      "\n"
     ]
    }
   ],
   "source": [
    "A = np.random.randint(4,size=(2,2))\n",
    "B = np.random.randint(4,size=(2,2))\n",
    "print(f\"A is:\\n{A}\\n\")\n",
    "print(f\"B is:\\n{B}\\n\")\n",
    "\n",
    "print(f\"A * B is \\n{A * B}\\n\") # elementwise product\n",
    "print(f\"A @ B is \\n{A @ B}\\n\") # 1st method to compute matrix product\n",
    "print(f\"A.dot(B) is \\n{A.dot(B)}\\n\") # 2nd method to compute matrix product"
   ]
  },
  {
   "cell_type": "markdown",
   "metadata": {},
   "source": []
  }
 ],
 "metadata": {
  "kernelspec": {
   "display_name": "datasci",
   "language": "python",
   "name": "python3"
  },
  "language_info": {
   "codemirror_mode": {
    "name": "ipython",
    "version": 3
   },
   "file_extension": ".py",
   "mimetype": "text/x-python",
   "name": "python",
   "nbconvert_exporter": "python",
   "pygments_lexer": "ipython3",
   "version": "3.13.0"
  }
 },
 "nbformat": 4,
 "nbformat_minor": 2
}
